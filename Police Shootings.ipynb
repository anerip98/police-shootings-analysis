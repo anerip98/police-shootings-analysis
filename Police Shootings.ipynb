{
 "cells": [
  {
   "cell_type": "markdown",
   "metadata": {},
   "source": [
    "<h1> <center>  Police Shootings in the US - An Extrapolatory Data Analysis </h1> </center>"
   ]
  },
  {
   "cell_type": "markdown",
   "metadata": {},
   "source": [
    "\n",
    "## Introduction\n",
    "\n",
    "In 2015, [The Washington Post](https://www.washingtonpost.com/graphics/investigations/police-shootings-database/) began to log every fatal shooting by an on-duty police officer in the United States - including the race of the deceased, the circumstances of the shooting, whether the person was armed and whether the person was experiencing a mental-health crisis. This was done by culling local news reports, law enforcement websites and social media, and by monitoring independent databases such as Killed by Police and Fatal Encounters [$^1$](https://www.washingtonpost.com/graphics/investigations/police-shootings-database/).\n",
    "\n",
    "The Post is documenting only those shootings in which a police officer, in the line of duty, shoots and kills a civilian — the circumstances that most closely parallel the 2014 killing of Michael Brown in Ferguson, Mo., which began the protest movement culminating in Black Lives Matter and an increased focus on police accountability nationwide. The Post is not tracking deaths of people in police custody, fatal shootings by off-duty officers or non-shooting deaths [$^1$](https://www.washingtonpost.com/graphics/investigations/police-shootings-database/).\n",
    "\n",
    "The FBI and the Centers for Disease Control and Prevention log fatal shootings by police, but officials acknowledge that their data is incomplete. Since 2015, The Post has documented more than twice as many fatal shootings by police as recorded on average annually. The Post’s data relies primarily on news accounts, social media postings and police reports.\n",
    "Analysis of years of data reveals that the number and circumstances of fatal shootings and the overall demographics of the victims have remained relatively constant [$^1$](https://www.washingtonpost.com/graphics/investigations/police-shootings-database/).\n",
    "\n",
    "## Data\n",
    "- The data for this project has been collected by the [Washington Post](https://github.com/washingtonpost/data-police-shootings/blob/master/fatal-police-shootings-data.csv). Each record in the database corresponds to the death of a civillian due to fatal force by a police in the US. Some of the attributes present in the collected data are: State, Gender, Race, Age, Mental illness, Weapon, Body camera(Y/N), Fleeing the scene (Y/N), Year.\n",
    "- Census data values - from US factfinder\n",
    "\n",
    "\n",
    "## General Problem Statement\n",
    "Perform an extrapolatory data analaysis on the data collected by the Washington Post\n",
    "\n",
    "## Conclusions\n",
    "- Black Americans are killed at a much higher rate than White Americans\n",
    "- Most victims are young, male\n",
    "- Police shootings have taken place in every state and have occurred more frequently in cities where populations are concentrated.\n"
   ]
  },
  {
   "cell_type": "markdown",
   "metadata": {
    "_cell_guid": "1fd46cb1-4ba2-4ec6-935e-8226d2b510ac",
    "_uuid": "8ea400eba81de9912c8830a586bfc7aa6bf4bec6"
   },
   "source": [
    "## Preprocessing"
   ]
  },
  {
   "cell_type": "markdown",
   "metadata": {},
   "source": [
    "### Importing Libraries"
   ]
  },
  {
   "cell_type": "code",
   "execution_count": 2,
   "metadata": {
    "_cell_guid": "2a50ab45-a882-4c0e-885a-30f5e6b6525d",
    "_uuid": "2d58227cf4666c5f322d10ba1c8ba6a0937d7aab"
   },
   "outputs": [],
   "source": [
    "import numpy as np \n",
    "import pandas as pd\n",
    "import requests\n",
    "\n",
    "#For logistic regression\n",
    "from sklearn.linear_model import LogisticRegression\n",
    "from sklearn import linear_model, metrics,model_selection\n",
    "from sklearn.metrics import accuracy_score, classification_report, confusion_matrix\n",
    "from sklearn.model_selection import train_test_split\n",
    "\n",
    "#For plotting\n",
    "%matplotlib inline\n",
    "import matplotlib\n",
    "import matplotlib.pyplot as plt\n",
    "import seaborn as sns"
   ]
  },
  {
   "cell_type": "markdown",
   "metadata": {},
   "source": [
    "### Fetching and analysing data"
   ]
  },
  {
   "cell_type": "code",
   "execution_count": 3,
   "metadata": {
    "_cell_guid": "0de25ab6-ef09-43f6-aa95-e4e90a7be574",
    "_uuid": "0f10bb0d42271e2993ed0cf2d04e6b3a95107c79"
   },
   "outputs": [
    {
     "name": "stdout",
     "output_type": "stream",
     "text": [
      "data:\n",
      "\n",
      "    id                name        date   manner_of_death       armed   age  \\\n",
      "0   3          Tim Elliot  2015-01-02              shot         gun  53.0   \n",
      "1   4    Lewis Lee Lembke  2015-01-02              shot         gun  47.0   \n",
      "2   5  John Paul Quintero  2015-01-03  shot and Tasered     unarmed  23.0   \n",
      "3   8     Matthew Hoffman  2015-01-04              shot  toy weapon  32.0   \n",
      "4   9   Michael Rodriguez  2015-01-04              shot    nail gun  39.0   \n",
      "\n",
      "  gender race           city state  signs_of_mental_illness threat_level  \\\n",
      "0      M    A        Shelton    WA                     True       attack   \n",
      "1      M    W          Aloha    OR                    False       attack   \n",
      "2      M    H        Wichita    KS                    False        other   \n",
      "3      M    W  San Francisco    CA                     True       attack   \n",
      "4      M    H          Evans    CO                    False       attack   \n",
      "\n",
      "          flee  body_camera  \n",
      "0  Not fleeing        False  \n",
      "1  Not fleeing        False  \n",
      "2  Not fleeing        False  \n",
      "3  Not fleeing        False  \n",
      "4  Not fleeing        False  \n"
     ]
    }
   ],
   "source": [
    "df = pd.read_csv(\"fatal-police-shootings-data.csv\", encoding=\"windows-1252\")\n",
    "df1 = pd.read_csv(\"fatal-police-shootings-data.csv\", encoding=\"windows-1252\")\n",
    "print(\"data:\\n\\n\",df.head())"
   ]
  },
  {
   "cell_type": "markdown",
   "metadata": {},
   "source": [
    "### Data Preprocessing"
   ]
  },
  {
   "cell_type": "markdown",
   "metadata": {
    "heading_collapsed": true
   },
   "source": [
    "#### Analyzing distribution of null values"
   ]
  },
  {
   "cell_type": "code",
   "execution_count": 7,
   "metadata": {
    "hidden": true
   },
   "outputs": [
    {
     "data": {
      "text/plain": [
       "id                           0\n",
       "name                         0\n",
       "date                         0\n",
       "manner_of_death              0\n",
       "armed                      246\n",
       "age                        156\n",
       "gender                       4\n",
       "race                       337\n",
       "city                         0\n",
       "state                        0\n",
       "signs_of_mental_illness      0\n",
       "threat_level                 0\n",
       "flee                       142\n",
       "body_camera                  0\n",
       "dtype: int64"
      ]
     },
     "execution_count": 7,
     "metadata": {},
     "output_type": "execute_result"
    }
   ],
   "source": [
    "df.isnull().sum()"
   ]
  },
  {
   "cell_type": "markdown",
   "metadata": {
    "heading_collapsed": true
   },
   "source": [
    "#### Getting information on datatypes of fields"
   ]
  },
  {
   "cell_type": "code",
   "execution_count": 8,
   "metadata": {
    "hidden": true
   },
   "outputs": [
    {
     "name": "stdout",
     "output_type": "stream",
     "text": [
      "<class 'pandas.core.frame.DataFrame'>\n",
      "RangeIndex: 4054 entries, 0 to 4053\n",
      "Data columns (total 14 columns):\n",
      "id                         4054 non-null int64\n",
      "name                       4054 non-null object\n",
      "date                       4054 non-null object\n",
      "manner_of_death            4054 non-null object\n",
      "armed                      3808 non-null object\n",
      "age                        3898 non-null float64\n",
      "gender                     4050 non-null object\n",
      "race                       3717 non-null object\n",
      "city                       4054 non-null object\n",
      "state                      4054 non-null object\n",
      "signs_of_mental_illness    4054 non-null bool\n",
      "threat_level               4054 non-null object\n",
      "flee                       3912 non-null object\n",
      "body_camera                4054 non-null bool\n",
      "dtypes: bool(2), float64(1), int64(1), object(10)\n",
      "memory usage: 388.1+ KB\n"
     ]
    }
   ],
   "source": [
    "df.info()"
   ]
  },
  {
   "cell_type": "markdown",
   "metadata": {
    "heading_collapsed": true
   },
   "source": [
    "#### Analyzing distribution of numeric fields"
   ]
  },
  {
   "cell_type": "code",
   "execution_count": 9,
   "metadata": {
    "hidden": true
   },
   "outputs": [
    {
     "data": {
      "text/html": [
       "<div>\n",
       "<style scoped>\n",
       "    .dataframe tbody tr th:only-of-type {\n",
       "        vertical-align: middle;\n",
       "    }\n",
       "\n",
       "    .dataframe tbody tr th {\n",
       "        vertical-align: top;\n",
       "    }\n",
       "\n",
       "    .dataframe thead th {\n",
       "        text-align: right;\n",
       "    }\n",
       "</style>\n",
       "<table border=\"1\" class=\"dataframe\">\n",
       "  <thead>\n",
       "    <tr style=\"text-align: right;\">\n",
       "      <th></th>\n",
       "      <th>id</th>\n",
       "      <th>age</th>\n",
       "    </tr>\n",
       "  </thead>\n",
       "  <tbody>\n",
       "    <tr>\n",
       "      <th>count</th>\n",
       "      <td>4054.000000</td>\n",
       "      <td>3898.000000</td>\n",
       "    </tr>\n",
       "    <tr>\n",
       "      <th>mean</th>\n",
       "      <td>2269.788604</td>\n",
       "      <td>36.891483</td>\n",
       "    </tr>\n",
       "    <tr>\n",
       "      <th>std</th>\n",
       "      <td>1269.726799</td>\n",
       "      <td>13.125567</td>\n",
       "    </tr>\n",
       "    <tr>\n",
       "      <th>min</th>\n",
       "      <td>3.000000</td>\n",
       "      <td>6.000000</td>\n",
       "    </tr>\n",
       "    <tr>\n",
       "      <th>25%</th>\n",
       "      <td>1170.250000</td>\n",
       "      <td>27.000000</td>\n",
       "    </tr>\n",
       "    <tr>\n",
       "      <th>50%</th>\n",
       "      <td>2259.500000</td>\n",
       "      <td>35.000000</td>\n",
       "    </tr>\n",
       "    <tr>\n",
       "      <th>75%</th>\n",
       "      <td>3371.750000</td>\n",
       "      <td>45.000000</td>\n",
       "    </tr>\n",
       "    <tr>\n",
       "      <th>max</th>\n",
       "      <td>4465.000000</td>\n",
       "      <td>91.000000</td>\n",
       "    </tr>\n",
       "  </tbody>\n",
       "</table>\n",
       "</div>"
      ],
      "text/plain": [
       "                id          age\n",
       "count  4054.000000  3898.000000\n",
       "mean   2269.788604    36.891483\n",
       "std    1269.726799    13.125567\n",
       "min       3.000000     6.000000\n",
       "25%    1170.250000    27.000000\n",
       "50%    2259.500000    35.000000\n",
       "75%    3371.750000    45.000000\n",
       "max    4465.000000    91.000000"
      ]
     },
     "execution_count": 9,
     "metadata": {},
     "output_type": "execute_result"
    }
   ],
   "source": [
    "df.describe()"
   ]
  },
  {
   "cell_type": "markdown",
   "metadata": {
    "hidden": true
   },
   "source": [
    "There are no anomalies in the age field"
   ]
  },
  {
   "cell_type": "markdown",
   "metadata": {
    "heading_collapsed": true
   },
   "source": [
    "#### Analyzing unique values in each column to decide on how to replace null and undetermined/other values"
   ]
  },
  {
   "cell_type": "code",
   "execution_count": 10,
   "metadata": {
    "hidden": true
   },
   "outputs": [
    {
     "name": "stdout",
     "output_type": "stream",
     "text": [
      "manner_of_death \n",
      " ['shot' 'shot and Tasered'] \n",
      "\n",
      "\n",
      "armed \n",
      " ['gun' 'unarmed' 'toy weapon' 'nail gun' 'knife' nan 'shovel' 'hammer'\n",
      " 'hatchet' 'undetermined' 'sword' 'machete' 'box cutter' 'metal object'\n",
      " 'screwdriver' 'lawn mower blade' 'flagpole' 'guns and explosives'\n",
      " 'cordless drill' 'crossbow' 'metal pole' 'Taser' 'metal pipe'\n",
      " 'metal hand tool' 'blunt object' 'metal stick' 'sharp object'\n",
      " 'meat cleaver' 'carjack' 'chain' \"contractor's level\" 'unknown weapon'\n",
      " 'stapler' 'beer bottle' 'bean-bag gun' 'baseball bat and fireplace poker'\n",
      " 'straight edge razor' 'gun and knife' 'ax' 'brick' 'baseball bat'\n",
      " 'hand torch' 'chain saw' 'garden tool' 'scissors' 'pole' 'pick-axe'\n",
      " 'flashlight' 'baton' 'spear' 'chair' 'pitchfork' 'hatchet and gun' 'rock'\n",
      " 'piece of wood' 'bayonet' 'pipe' 'glass shard' 'motorcycle'\n",
      " 'pepper spray' 'metal rake' 'crowbar' 'oar' 'machete and gun' 'tire iron'\n",
      " 'air conditioner' 'pole and knife' 'baseball bat and bottle' 'fireworks'\n",
      " 'pen' 'chainsaw' 'gun and sword' 'gun and car' 'vehicle' 'pellet gun'\n",
      " 'claimed to be armed' 'BB gun' 'incendiary device' 'samurai sword'\n",
      " 'bow and arrow' 'gun and vehicle' 'vehicle and gun'] \n",
      "\n",
      "\n",
      "age \n",
      " [53. 47. 23. 32. 39. 18. 22. 35. 34. 25. 31. 41. 30. 37. 28. 42. 36. 49.\n",
      " 71. 33. 29. 43. 24. 75. 68. 27. 48. 21. 67. 19. 54. 17. 61. 56. 40. 45.\n",
      " 26. 59. 38. 51. 74. 57. 46. 16. 50. 20. nan 77. 58. 64. 52. 63. 44. 60.\n",
      " 66. 83. 72. 76. 62. 55. 69. 86. 15. 65.  6. 12. 70. 80. 14. 82. 13. 73.\n",
      " 91. 79. 78. 84. 81. 89.] \n",
      "\n",
      "\n",
      "gender \n",
      " ['M' 'F' nan] \n",
      "\n",
      "\n",
      "race \n",
      " ['A' 'W' 'H' 'B' 'O' nan 'N'] \n",
      "\n",
      "\n",
      "city \n",
      " ['Shelton' 'Aloha' 'Wichita' ... 'Defiance' 'Cinco Ranch' 'Aspers'] \n",
      "\n",
      "\n",
      "state \n",
      " ['WA' 'OR' 'KS' 'CA' 'CO' 'OK' 'AZ' 'IA' 'PA' 'TX' 'OH' 'LA' 'MT' 'UT'\n",
      " 'AR' 'IL' 'NV' 'NM' 'MN' 'MO' 'VA' 'NJ' 'IN' 'KY' 'MA' 'NH' 'FL' 'ID'\n",
      " 'MD' 'NE' 'MI' 'GA' 'TN' 'NC' 'AK' 'NY' 'ME' 'AL' 'MS' 'WI' 'SC' 'DE'\n",
      " 'DC' 'WV' 'HI' 'WY' 'ND' 'CT' 'SD' 'VT' 'RI'] \n",
      "\n",
      "\n",
      "signs_of_mental_illness \n",
      " [ True False] \n",
      "\n",
      "\n",
      "threat_level \n",
      " ['attack' 'other' 'undetermined'] \n",
      "\n",
      "\n",
      "flee \n",
      " ['Not fleeing' 'Car' 'Foot' 'Other' nan] \n",
      "\n",
      "\n",
      "body_camera \n",
      " [False  True] \n",
      "\n",
      "\n"
     ]
    }
   ],
   "source": [
    "for col in df.columns[3:]:\n",
    "    print (col,\"\\n\",df[col].unique(),\"\\n\\n\")"
   ]
  },
  {
   "cell_type": "markdown",
   "metadata": {
    "heading_collapsed": true
   },
   "source": [
    "#### Imputing data for analysis purposes"
   ]
  },
  {
   "cell_type": "code",
   "execution_count": 11,
   "metadata": {
    "hidden": true
   },
   "outputs": [
    {
     "name": "stdout",
     "output_type": "stream",
     "text": [
      "before:\t ['shot' 'shot and Tasered'] \n",
      "\n",
      "after:\t [1 2] \n",
      "\n"
     ]
    }
   ],
   "source": [
    "# Manner of death\n",
    "print(\"before:\\t\",df1['manner_of_death'].unique(),\"\\n\")\n",
    "mapping={\n",
    "    'shot':1,\n",
    "    'shot and Tasered':2\n",
    "}\n",
    "df1['manner_of_death']=df1['manner_of_death'].replace(mapping)\n",
    "print(\"after:\\t\",df1['manner_of_death'].unique(),\"\\n\")"
   ]
  },
  {
   "cell_type": "code",
   "execution_count": 12,
   "metadata": {
    "hidden": true
   },
   "outputs": [
    {
     "name": "stdout",
     "output_type": "stream",
     "text": [
      "before:\t ['gun' 'unarmed' 'toy weapon' 'nail gun' 'knife' nan 'shovel' 'hammer'\n",
      " 'hatchet' 'undetermined' 'sword' 'machete' 'box cutter' 'metal object'\n",
      " 'screwdriver' 'lawn mower blade' 'flagpole' 'guns and explosives'\n",
      " 'cordless drill' 'crossbow' 'metal pole' 'Taser' 'metal pipe'\n",
      " 'metal hand tool' 'blunt object' 'metal stick' 'sharp object'\n",
      " 'meat cleaver' 'carjack' 'chain' \"contractor's level\" 'unknown weapon'\n",
      " 'stapler' 'beer bottle' 'bean-bag gun' 'baseball bat and fireplace poker'\n",
      " 'straight edge razor' 'gun and knife' 'ax' 'brick' 'baseball bat'\n",
      " 'hand torch' 'chain saw' 'garden tool' 'scissors' 'pole' 'pick-axe'\n",
      " 'flashlight' 'baton' 'spear' 'chair' 'pitchfork' 'hatchet and gun' 'rock'\n",
      " 'piece of wood' 'bayonet' 'pipe' 'glass shard' 'motorcycle'\n",
      " 'pepper spray' 'metal rake' 'crowbar' 'oar' 'machete and gun' 'tire iron'\n",
      " 'air conditioner' 'pole and knife' 'baseball bat and bottle' 'fireworks'\n",
      " 'pen' 'chainsaw' 'gun and sword' 'gun and car' 'vehicle' 'pellet gun'\n",
      " 'claimed to be armed' 'BB gun' 'incendiary device' 'samurai sword'\n",
      " 'bow and arrow' 'gun and vehicle' 'vehicle and gun'] \n",
      "\n",
      "after:\t [5 0 2 4 -1 3 1 'chair' 'pepper spray' 'chainsaw' 'gun and sword'\n",
      " 'gun and car' 'pellet gun' 'claimed to be armed' 'BB gun'\n",
      " 'incendiary device' 'samurai sword' 'bow and arrow' 'gun and vehicle'\n",
      " 'vehicle and gun'] \n",
      "\n"
     ]
    }
   ],
   "source": [
    "# Armed\n",
    "print(\"before:\\t\",df1['armed'].unique(),\"\\n\")\n",
    "u=['unknown weapon','undetermined']\n",
    "df1.loc[(df1['armed'].isna())] = 'unknown'\n",
    "df1.loc[(df1['armed'] =='unknown weapon')|(df1['armed']=='undetermined'),'armed'] = 'unknown'\n",
    "\n",
    "\n",
    "\n",
    "mapping = {\n",
    "        'unarmed':0,\n",
    "    \n",
    "        'unknown' :-1,\n",
    "        'hand torch':1,'pen':1,'carjack':1,\"contractor's level\":1,'stapler':1,'flashlight':1,\n",
    "    \n",
    "        'box cutter':2,'metal object':2,'toy weapon':2,'screwdriver':2,'blunt object':2,'piece of wood':2,\n",
    "    \n",
    "        'oar':3,'metal pole':3,'metal pipe':3,'metal stick':3,'hammer':3,'shovel':3,'pole':3,'metal hand tool':3,\\\n",
    "        'garden tool':3,'cordless drill':3,'rock':3,'bayonet':3,'pipe':3,'baton':3,'crowbar':3,'brick':3,\\\n",
    "        'baseball bat':3,'baseball bat and fireplace poker':3,'flagpole':3,'hatchet':4,'machete':4,'sword':4,\\\n",
    "        'straight edge razor':4,'chain':4,'ax':4,'spear':4,'pick-axe':4,'knife':4,'scissors':4,\n",
    "        \n",
    "        'meat cleaver':4,'lawn mower blade':4,'glass shard':4,'beer bottle':4,'sharp object':4,'baseball bat and bottle':4,\n",
    "        'metal rake':4,'fireworks':4,'pole and knife':4,'pitchfork':4,'crossbow':4,'chain saw':4,'Taser':4,'tire iron':4,\n",
    "    \n",
    "        'bean-bag gun':5,'hatchet and gun':5,'gun':5,'nail gun':5,'vehicle':5,'motorcycle':5,'guns and explosives':5,'gun and knife':5,\n",
    "        'machete and gun':5,'air conditioner':5\n",
    "        }\n",
    "df1['armed_level']=df1['armed'].replace(mapping)\n",
    "print(\"after:\\t\",df1['armed_level'].unique(),\"\\n\")"
   ]
  },
  {
   "cell_type": "code",
   "execution_count": 13,
   "metadata": {
    "hidden": true
   },
   "outputs": [
    {
     "name": "stdout",
     "output_type": "stream",
     "text": [
      "before:\t ['M' 'F' 'unknown' nan] \n",
      "\n",
      "after:\t [ True False] \n",
      "\n"
     ]
    }
   ],
   "source": [
    "# Gender\n",
    "print(\"before:\\t\",df1['gender'].unique(),\"\\n\")\n",
    "df1['intgender']=df1['gender']=='M'\n",
    "print(\"after:\\t\",df1['intgender'].unique(),\"\\n\")"
   ]
  },
  {
   "cell_type": "code",
   "execution_count": 14,
   "metadata": {
    "hidden": true
   },
   "outputs": [
    {
     "name": "stdout",
     "output_type": "stream",
     "text": [
      "before:\t ['attack' 'other' 'unknown' 'undetermined'] \n",
      "\n",
      "before:\t [1 0] \n",
      "\n"
     ]
    }
   ],
   "source": [
    "# Threat Level\n",
    "print(\"before:\\t\",df1['threat_level'].unique(),\"\\n\")\n",
    "df1.loc[df1.threat_level != 'attack', 'threat_level'] = 'Other'\n",
    "df1['threat_level']=df1['threat_level']=='attack'\n",
    "df1['threat_level']=df1['threat_level'].astype(int)\n",
    "print(\"before:\\t\",df1['threat_level'].unique(),\"\\n\")"
   ]
  },
  {
   "cell_type": "code",
   "execution_count": 15,
   "metadata": {
    "hidden": true
   },
   "outputs": [
    {
     "name": "stdout",
     "output_type": "stream",
     "text": [
      "before:\t [False True 'unknown'] \n",
      "\n",
      "after:\t [False True 'unknown'] \n",
      "\n"
     ]
    }
   ],
   "source": [
    "# Body camera\n",
    "print(\"before:\\t\",df1['body_camera'].unique(),\"\\n\")\n",
    "df1['body_camera']=df1['body_camera'].fillna(False)\n",
    "\n",
    "print(\"after:\\t\",df1['body_camera'].unique(),\"\\n\")"
   ]
  },
  {
   "cell_type": "code",
   "execution_count": 16,
   "metadata": {
    "hidden": true
   },
   "outputs": [
    {
     "name": "stdout",
     "output_type": "stream",
     "text": [
      "before:\t ['Not fleeing' 'Car' 'Foot' 'unknown' 'Other' nan] \n",
      "\n",
      "after:\t [0 2 1 'unknown' -1] \n",
      "\n"
     ]
    }
   ],
   "source": [
    "# Flee\n",
    "print(\"before:\\t\",df1['flee'].unique(),\"\\n\")\n",
    "\n",
    "df1['flee']=df1['flee'].fillna('Other')\n",
    "mapping={\n",
    "    'Car':2,\n",
    "    'Foot':1,\n",
    "    'Not fleeing':0,\n",
    "    'Other':-1\n",
    "}\n",
    "df1['flee']=df1['flee'].replace(mapping)\n",
    "print(\"after:\\t\",df1['flee'].unique(),\"\\n\")"
   ]
  },
  {
   "cell_type": "code",
   "execution_count": 17,
   "metadata": {
    "hidden": true
   },
   "outputs": [
    {
     "data": {
      "text/html": [
       "<div>\n",
       "<style scoped>\n",
       "    .dataframe tbody tr th:only-of-type {\n",
       "        vertical-align: middle;\n",
       "    }\n",
       "\n",
       "    .dataframe tbody tr th {\n",
       "        vertical-align: top;\n",
       "    }\n",
       "\n",
       "    .dataframe thead th {\n",
       "        text-align: right;\n",
       "    }\n",
       "</style>\n",
       "<table border=\"1\" class=\"dataframe\">\n",
       "  <thead>\n",
       "    <tr style=\"text-align: right;\">\n",
       "      <th></th>\n",
       "      <th>id</th>\n",
       "      <th>name</th>\n",
       "      <th>date</th>\n",
       "      <th>manner_of_death</th>\n",
       "      <th>armed</th>\n",
       "      <th>age</th>\n",
       "      <th>gender</th>\n",
       "      <th>race</th>\n",
       "      <th>city</th>\n",
       "      <th>state</th>\n",
       "      <th>signs_of_mental_illness</th>\n",
       "      <th>threat_level</th>\n",
       "      <th>flee</th>\n",
       "      <th>body_camera</th>\n",
       "      <th>armed_level</th>\n",
       "      <th>intgender</th>\n",
       "    </tr>\n",
       "  </thead>\n",
       "  <tbody>\n",
       "    <tr>\n",
       "      <th>0</th>\n",
       "      <td>3</td>\n",
       "      <td>Tim Elliot</td>\n",
       "      <td>2015-01-02</td>\n",
       "      <td>1</td>\n",
       "      <td>gun</td>\n",
       "      <td>53</td>\n",
       "      <td>M</td>\n",
       "      <td>A</td>\n",
       "      <td>Shelton</td>\n",
       "      <td>WA</td>\n",
       "      <td>True</td>\n",
       "      <td>1</td>\n",
       "      <td>0</td>\n",
       "      <td>False</td>\n",
       "      <td>5</td>\n",
       "      <td>True</td>\n",
       "    </tr>\n",
       "    <tr>\n",
       "      <th>1</th>\n",
       "      <td>4</td>\n",
       "      <td>Lewis Lee Lembke</td>\n",
       "      <td>2015-01-02</td>\n",
       "      <td>1</td>\n",
       "      <td>gun</td>\n",
       "      <td>47</td>\n",
       "      <td>M</td>\n",
       "      <td>W</td>\n",
       "      <td>Aloha</td>\n",
       "      <td>OR</td>\n",
       "      <td>False</td>\n",
       "      <td>1</td>\n",
       "      <td>0</td>\n",
       "      <td>False</td>\n",
       "      <td>5</td>\n",
       "      <td>True</td>\n",
       "    </tr>\n",
       "    <tr>\n",
       "      <th>2</th>\n",
       "      <td>5</td>\n",
       "      <td>John Paul Quintero</td>\n",
       "      <td>2015-01-03</td>\n",
       "      <td>2</td>\n",
       "      <td>unarmed</td>\n",
       "      <td>23</td>\n",
       "      <td>M</td>\n",
       "      <td>H</td>\n",
       "      <td>Wichita</td>\n",
       "      <td>KS</td>\n",
       "      <td>False</td>\n",
       "      <td>0</td>\n",
       "      <td>0</td>\n",
       "      <td>False</td>\n",
       "      <td>0</td>\n",
       "      <td>True</td>\n",
       "    </tr>\n",
       "    <tr>\n",
       "      <th>3</th>\n",
       "      <td>8</td>\n",
       "      <td>Matthew Hoffman</td>\n",
       "      <td>2015-01-04</td>\n",
       "      <td>1</td>\n",
       "      <td>toy weapon</td>\n",
       "      <td>32</td>\n",
       "      <td>M</td>\n",
       "      <td>W</td>\n",
       "      <td>San Francisco</td>\n",
       "      <td>CA</td>\n",
       "      <td>True</td>\n",
       "      <td>1</td>\n",
       "      <td>0</td>\n",
       "      <td>False</td>\n",
       "      <td>2</td>\n",
       "      <td>True</td>\n",
       "    </tr>\n",
       "    <tr>\n",
       "      <th>4</th>\n",
       "      <td>9</td>\n",
       "      <td>Michael Rodriguez</td>\n",
       "      <td>2015-01-04</td>\n",
       "      <td>1</td>\n",
       "      <td>nail gun</td>\n",
       "      <td>39</td>\n",
       "      <td>M</td>\n",
       "      <td>H</td>\n",
       "      <td>Evans</td>\n",
       "      <td>CO</td>\n",
       "      <td>False</td>\n",
       "      <td>1</td>\n",
       "      <td>0</td>\n",
       "      <td>False</td>\n",
       "      <td>5</td>\n",
       "      <td>True</td>\n",
       "    </tr>\n",
       "  </tbody>\n",
       "</table>\n",
       "</div>"
      ],
      "text/plain": [
       "  id                name        date manner_of_death       armed age gender  \\\n",
       "0  3          Tim Elliot  2015-01-02               1         gun  53      M   \n",
       "1  4    Lewis Lee Lembke  2015-01-02               1         gun  47      M   \n",
       "2  5  John Paul Quintero  2015-01-03               2     unarmed  23      M   \n",
       "3  8     Matthew Hoffman  2015-01-04               1  toy weapon  32      M   \n",
       "4  9   Michael Rodriguez  2015-01-04               1    nail gun  39      M   \n",
       "\n",
       "  race           city state signs_of_mental_illness  threat_level flee  \\\n",
       "0    A        Shelton    WA                    True             1    0   \n",
       "1    W          Aloha    OR                   False             1    0   \n",
       "2    H        Wichita    KS                   False             0    0   \n",
       "3    W  San Francisco    CA                    True             1    0   \n",
       "4    H          Evans    CO                   False             1    0   \n",
       "\n",
       "  body_camera armed_level  intgender  \n",
       "0       False           5       True  \n",
       "1       False           5       True  \n",
       "2       False           0       True  \n",
       "3       False           2       True  \n",
       "4       False           5       True  "
      ]
     },
     "execution_count": 17,
     "metadata": {},
     "output_type": "execute_result"
    }
   ],
   "source": [
    "df1.head()"
   ]
  },
  {
   "cell_type": "code",
   "execution_count": 18,
   "metadata": {
    "_cell_guid": "1ae35912-740e-4fab-8c4e-33e3b942c5ba",
    "_uuid": "9744226a5212518c341c379af05d2d7413b71734",
    "hidden": true
   },
   "outputs": [
    {
     "data": {
      "text/plain": [
       "Index(['date', 'armed', 'age', 'gender', 'race', 'City', 'state',\n",
       "       'signs_of_mental_illness', 'threat_level', 'flee', 'body_camera'],\n",
       "      dtype='object')"
      ]
     },
     "execution_count": 18,
     "metadata": {},
     "output_type": "execute_result"
    }
   ],
   "source": [
    "df = df.rename(columns={\"city\": \"City\"})\n",
    "df.drop([\"id\", \"name\", \"manner_of_death\"], axis=1, inplace=True)\n",
    "df.age.fillna(value=df.age.mean(), inplace=True)\n",
    "df.age = df.age.astype(int)\n",
    "\n",
    "#As race plays an important role in the analysis, we drop rows where race is not entered\n",
    "df.dropna(subset=[\"race\"], inplace=True)\n",
    "\n",
    "#It can be observed from the CSV, that there is quite a bit of information missing for deaths after 01/06/2017\n",
    "#thus, we eliminate those rows\n",
    "df.drop(df.index[2363:], inplace=True) \n",
    "df.columns"
   ]
  },
  {
   "cell_type": "markdown",
   "metadata": {
    "heading_collapsed": true
   },
   "source": [
    "### Bias detection"
   ]
  },
  {
   "cell_type": "code",
   "execution_count": 19,
   "metadata": {
    "hidden": true
   },
   "outputs": [
    {
     "data": {
      "text/plain": [
       "Text(0.5, 1.0, 'Age distribution')"
      ]
     },
     "execution_count": 19,
     "metadata": {},
     "output_type": "execute_result"
    },
    {
     "data": {
      "image/png": "[encoded data removed]",
      "text/plain": [
       "<Figure size 432x288 with 1 Axes>"
      ]
     },
     "metadata": {
      "needs_background": "light"
     },
     "output_type": "display_data"
    }
   ],
   "source": [
    "df.age.hist(bins=20)\n",
    "plt.title(\"Age distribution\")"
   ]
  },
  {
   "cell_type": "markdown",
   "metadata": {
    "hidden": true
   },
   "source": [
    "From the above graph, we can see that the age distribution of victims is not exactly normally distributed but it tallies with the age distribution of the population of the country ( with majorty of the victims around the age of 25)"
   ]
  },
  {
   "cell_type": "markdown",
   "metadata": {
    "heading_collapsed": true
   },
   "source": [
    "### Introducing a new column - total race population for analysis "
   ]
  },
  {
   "cell_type": "code",
   "execution_count": 20,
   "metadata": {
    "_cell_guid": "69de481c-a815-4991-bb3a-09600cf3eaa5",
    "_uuid": "f64d81d54adc5af959e040659dd32fe6c14040e4",
    "hidden": true
   },
   "outputs": [],
   "source": [
    "conditions = [df[\"race\"]==\"A\", df[\"race\"]==\"W\", df[\"race\"]==\"H\", df[\"race\"]==\"B\", df[\"race\"]==\"N\", df[\"race\"]==\"O\"]\n",
    "race_total_population = [14674252, 223553265, 50477594, 38929319, 2932248, 22579629]\n",
    "\n",
    "asian_pop=race_total_population[0]\n",
    "white_pop=race_total_population[1]\n",
    "hispanic_pop=race_total_population[2]\n",
    "black_pop=race_total_population[3]\n",
    "native_pop=race_total_population[4]\n",
    "other_pop=race_total_population[5]\n",
    "\n",
    "df[\"total_population\"] = np.select(conditions, race_total_population, default=\"zero\")"
   ]
  },
  {
   "cell_type": "markdown",
   "metadata": {
    "_cell_guid": "ef803a9c-22cb-41dc-956f-57839d0f0727",
    "_uuid": "7f5c2dfde88ec094ef3e2e2e8ecdbfa59c1d94ed"
   },
   "source": [
    "## Extrapolatory Data Analysis"
   ]
  },
  {
   "cell_type": "code",
   "execution_count": 22,
   "metadata": {},
   "outputs": [],
   "source": [
    "#calculating total victims by race\n",
    "black_total=df[(df.race=='B')].count()[0]\n",
    "white_total=df[(df.race=='W')].count()[0]\n",
    "native_total=df[(df.race=='N')].count()[0]\n",
    "asian_total=df[(df.race=='A')].count()[0]\n",
    "hispanic_total=df[(df.race=='H')].count()[0]\n",
    "other_total=df[(df.race=='O')].count()[0]\n",
    "\n",
    "#race_proportion\n",
    "victims_race_proportions=[black_total/black_pop,white_total/white_pop,\n",
    "                 native_total/native_pop,asian_total/asian_pop,\n",
    "                 hispanic_total/hispanic_pop,other_total/other_pop]\n",
    "\n",
    "#gender\n",
    "female = df[df[\"gender\"] == \"F\"].gender.count()\n",
    "male = df[df[\"gender\"] == \"M\"].gender.count()\n",
    "\n",
    "#age\n",
    "avg_age_w = df.age[(df[\"race\"] == \"W\")].mean() \n",
    "avg_age_b = df.age[(df[\"race\"] == \"B\")].mean() \n",
    "avg_age_h = df.age[(df[\"race\"] == \"H\")].mean() \n",
    "\n",
    "#armed\n",
    "armed = df.armed.value_counts(ascending=False)\n",
    "df_armed = df.filter([\"armed\"], axis=1)\n",
    "df_armed[\"count\"] = 1\n",
    "grouped_armed = df_armed.groupby(\"armed\", as_index=False,sort=False).sum()\n",
    "grouped_armed = grouped_armed.sort_values(\"count\", ascending=False).head(8) \n",
    "\n",
    "#city\n",
    "city = df.City.value_counts(ascending=False)\n",
    "df_city = df.filter([\"City\"], axis=1)\n",
    "df_city[\"count\"] = 1\n",
    "grouped_city = df_city.groupby(\"City\", as_index=False,sort=False).sum()\n",
    "grouped_city = grouped_city.sort_values(\"count\", ascending=False).head(8)   \n",
    "\n",
    "victims_race=[black_total,white_total,native_total,asian_total,hispanic_total,other_total]\n",
    "victims_gender=[male,female]\n",
    "racerows = df.loc[(df[\"race\"] == \"B\") | (df[\"race\"] == \"W\") | (df[\"race\"] == \"H\") | (df[\"race\"] == \"A\")|(df[\"race\"]=='O')]\n",
    "three_races = df.loc[(df[\"race\"] == \"B\") | (df[\"race\"] == \"W\") | (df[\"race\"] == \"H\")]\n",
    "\n",
    "races=['Black','White','Native','Asian','Hispanic','Other']\n",
    "gender=['Male','Female']"
   ]
  },
  {
   "cell_type": "markdown",
   "metadata": {
    "_cell_guid": "f801940f-897c-4be4-812e-35b1c76a8bc1",
    "_uuid": "e3630bf966633759a6502b7cafe05c3559ea566d",
    "heading_collapsed": true
   },
   "source": [
    "### Total number of people killed, by race"
   ]
  },
  {
   "cell_type": "code",
   "execution_count": 23,
   "metadata": {
    "_cell_guid": "46346124-6fe9-4f2c-9fdb-d5d113ba802b",
    "_uuid": "13801b78d1e5e82b078834f3e10ac62ff29878d6",
    "hidden": true
   },
   "outputs": [
    {
     "data": {
      "image/png": "[encoded data removed]",
      "text/plain": [
       "<Figure size 1080x504 with 1 Axes>"
      ]
     },
     "metadata": {
      "needs_background": "light"
     },
     "output_type": "display_data"
    }
   ],
   "source": [
    "plt.figure(figsize=(15,7))\n",
    "sns.barplot(y=victims_race,x=races)\n",
    "plt.title(\"Total number of people killed, by race\", fontsize=17)\n",
    "plt.savefig('race.png')"
   ]
  },
  {
   "cell_type": "markdown",
   "metadata": {
    "_cell_guid": "e748d43f-84ac-4822-b72f-6793621b2be9",
    "_uuid": "0bdc2bbd78f2859b36eb826e4cc98292586fd330",
    "collapsed": true,
    "hidden": true
   },
   "source": [
    "From the bar chart above, it can be observed that majority of the victims are White. This makes sense since majority of the population in the US is White."
   ]
  },
  {
   "cell_type": "markdown",
   "metadata": {
    "heading_collapsed": true
   },
   "source": [
    "### Number of people killed as a proportion of respective races"
   ]
  },
  {
   "cell_type": "code",
   "execution_count": 24,
   "metadata": {
    "hidden": true,
    "scrolled": true
   },
   "outputs": [
    {
     "data": {
      "image/png": "[encoded data removed]",
      "text/plain": [
       "<Figure size 1080x504 with 1 Axes>"
      ]
     },
     "metadata": {
      "needs_background": "light"
     },
     "output_type": "display_data"
    }
   ],
   "source": [
    "plt.figure(figsize=(15,7))\n",
    "plt.title(\"People killed as a proportion of their respective race\", fontsize=17)\n",
    "sns.barplot(y=victims_race_proportions,x=races)\n",
    "plt.savefig('race_proportion.png')"
   ]
  },
  {
   "cell_type": "markdown",
   "metadata": {
    "hidden": true
   },
   "source": [
    "Earlier, we observed that the maximum victims where white. However, on looking at the numbers as a proportion of the racial population, Black people are more likely to be killed than white people."
   ]
  },
  {
   "cell_type": "markdown",
   "metadata": {
    "heading_collapsed": true
   },
   "source": [
    "### Total number of people killed, by gender"
   ]
  },
  {
   "cell_type": "code",
   "execution_count": 25,
   "metadata": {
    "hidden": true
   },
   "outputs": [
    {
     "data": {
      "image/png": "[encoded data removed]",
      "text/plain": [
       "<Figure size 504x360 with 1 Axes>"
      ]
     },
     "metadata": {
      "needs_background": "light"
     },
     "output_type": "display_data"
    }
   ],
   "source": [
    "plt.figure(figsize=(7,5))\n",
    "plt.title(\"Total number of people killed, by gender\", fontsize=17)\n",
    "sns.barplot(y=victims_gender,x=gender)\n",
    "\n",
    "plt.savefig('gender.png')"
   ]
  },
  {
   "cell_type": "markdown",
   "metadata": {
    "heading_collapsed": true
   },
   "source": [
    "### General age distribution of victims"
   ]
  },
  {
   "cell_type": "code",
   "execution_count": 26,
   "metadata": {
    "hidden": true
   },
   "outputs": [
    {
     "data": {
      "image/png": "[encoded data removed]",
      "text/plain": [
       "<Figure size 1080x504 with 1 Axes>"
      ]
     },
     "metadata": {
      "needs_background": "light"
     },
     "output_type": "display_data"
    }
   ],
   "source": [
    "fig=plt.figure(figsize=(15,7))\n",
    "plt.title(\"Age distribution\", fontsize=17)\n",
    "\n",
    "age_dist = sns.distplot(df[\"age\"], bins=40)\n",
    "age_dist.set(xlabel=\"Age\", ylabel=\"Count\")\n",
    "\n",
    "plt.savefig('bias_detection.png')"
   ]
  },
  {
   "cell_type": "markdown",
   "metadata": {
    "heading_collapsed": true
   },
   "source": [
    "### Comparing age distribution of victims by race"
   ]
  },
  {
   "cell_type": "code",
   "execution_count": 27,
   "metadata": {
    "hidden": true
   },
   "outputs": [
    {
     "data": {
      "text/plain": [
       "Text(0.5, 1, 'Age distribution of kills by race')"
      ]
     },
     "execution_count": 27,
     "metadata": {},
     "output_type": "execute_result"
    },
    {
     "data": {
      "text/plain": [
       "<Figure size 1080x504 with 0 Axes>"
      ]
     },
     "metadata": {},
     "output_type": "display_data"
    },
    {
     "data": {
      "image/png": "[encoded data removed]",
      "text/plain": [
       "<Figure size 909.875x216 with 1 Axes>"
      ]
     },
     "metadata": {
      "needs_background": "light"
     },
     "output_type": "display_data"
    }
   ],
   "source": [
    "plt.figure(figsize=(15,7))\n",
    "grid = sns.FacetGrid(data=racerows, hue=\"race\", aspect=4,palette='Reds')\n",
    "grid.map(sns.kdeplot, \"age\",shade=True)\n",
    "grid.add_legend(title=\"Race\")\n",
    "grid.set_ylabels(\"Count\")\n",
    "\n",
    "plt.title(\"Age distribution of kills by race\", fontsize=17)"
   ]
  },
  {
   "cell_type": "markdown",
   "metadata": {
    "heading_collapsed": true
   },
   "source": [
    "### For better visualization"
   ]
  },
  {
   "cell_type": "code",
   "execution_count": 28,
   "metadata": {
    "hidden": true
   },
   "outputs": [
    {
     "name": "stderr",
     "output_type": "stream",
     "text": [
      "C:\\Users\\Aneri\\Anaconda3\\lib\\site-packages\\seaborn\\axisgrid.py:230: UserWarning: The `size` paramter has been renamed to `height`; please update your code.\n",
      "  warnings.warn(msg, UserWarning)\n"
     ]
    },
    {
     "data": {
      "text/plain": [
       "<Figure size 1080x504 with 0 Axes>"
      ]
     },
     "metadata": {},
     "output_type": "display_data"
    },
    {
     "data": {
      "image/png": "[encoded data removed]",
      "text/plain": [
       "<Figure size 909.875x288 with 1 Axes>"
      ]
     },
     "metadata": {
      "needs_background": "light"
     },
     "output_type": "display_data"
    }
   ],
   "source": [
    "# Only for Blacks, Whites, Hispanics as it gets difficult to visualize for many races\n",
    "fig=plt.figure(figsize=(15,7))\n",
    "grid = sns.FacetGrid(data=three_races, hue=\"race\", aspect=3, size=4)\n",
    "grid.map(sns.kdeplot, \"age\", shade=True)\n",
    "grid.add_legend(title=\"Race\")\n",
    "grid.set_ylabels(\"Count\")\n",
    "\n",
    "plt.title(\"Age distribution, by race\", fontsize=17)\n",
    "plt.savefig('age_race.png')"
   ]
  },
  {
   "cell_type": "markdown",
   "metadata": {
    "hidden": true
   },
   "source": [
    "The age distribution of Blacks and Hispanics is skewed to the left. From this we observe that on average, Blacks and Hispanics are being killed at a younger age than Whites."
   ]
  },
  {
   "cell_type": "code",
   "execution_count": 29,
   "metadata": {
    "hidden": true
   },
   "outputs": [
    {
     "name": "stdout",
     "output_type": "stream",
     "text": [
      "Average age of white victims is  39.99917149958575\n",
      "Average age of black victims is  31.694668820678515\n",
      "Average age of hispanic victims is  33.06192660550459\n"
     ]
    }
   ],
   "source": [
    "print (\"Average age of white victims is \" ,avg_age_w)\n",
    "print (\"Average age of black victims is \",avg_age_b)\n",
    "print (\"Average age of hispanic victims is \",avg_age_h)"
   ]
  },
  {
   "cell_type": "markdown",
   "metadata": {
    "hidden": true
   },
   "source": [
    "From the above analysis, we can conclude that younger blacks are more likely to be victims than younger whites."
   ]
  },
  {
   "cell_type": "markdown",
   "metadata": {
    "heading_collapsed": true
   },
   "source": [
    "### Number of fatal shootings in each state"
   ]
  },
  {
   "cell_type": "code",
   "execution_count": 30,
   "metadata": {
    "hidden": true
   },
   "outputs": [
    {
     "data": {
      "text/plain": [
       "Text(0.5, 1.0, 'Number of police killings, by state')"
      ]
     },
     "execution_count": 30,
     "metadata": {},
     "output_type": "execute_result"
    },
    {
     "data": {
      "image/png": "[encoded data removed]",
      "text/plain": [
       "<Figure size 1080x504 with 1 Axes>"
      ]
     },
     "metadata": {
      "needs_background": "light"
     },
     "output_type": "display_data"
    }
   ],
   "source": [
    "plt.figure(figsize=(15,7))\n",
    "sns.countplot(data=df, x=df.state)\n",
    "plt.title(\"Number of police killings, by state\", fontsize=27)"
   ]
  },
  {
   "cell_type": "markdown",
   "metadata": {
    "hidden": true
   },
   "source": [
    "California, Texas and Florida are the states in which police killings are most frequent. These are also the three most populous states in the US."
   ]
  },
  {
   "cell_type": "markdown",
   "metadata": {
    "heading_collapsed": true
   },
   "source": [
    "### Most dangerous cities"
   ]
  },
  {
   "cell_type": "code",
   "execution_count": 31,
   "metadata": {
    "hidden": true
   },
   "outputs": [
    {
     "data": {
      "image/png": "[encoded data removed]",
      "text/plain": [
       "<Figure size 1080x504 with 1 Axes>"
      ]
     },
     "metadata": {
      "needs_background": "light"
     },
     "output_type": "display_data"
    }
   ],
   "source": [
    "plt.figure(figsize=(15,7))\n",
    "sns.barplot(data=grouped_city, x=\"City\", y=\"count\")\n",
    "plt.title(\"Most dangerous cities\", fontsize=17)\n",
    "plt.savefig('cities_ranked.png')\n"
   ]
  },
  {
   "cell_type": "markdown",
   "metadata": {
    "heading_collapsed": true
   },
   "source": [
    "### Most common ways of being armed"
   ]
  },
  {
   "cell_type": "code",
   "execution_count": 32,
   "metadata": {
    "hidden": true
   },
   "outputs": [
    {
     "data": {
      "image/png": "[encoded data removed]",
      "text/plain": [
       "<Figure size 1080x504 with 1 Axes>"
      ]
     },
     "metadata": {
      "needs_background": "light"
     },
     "output_type": "display_data"
    }
   ],
   "source": [
    "plt.figure(figsize=(15,7))\n",
    "sns.barplot(data=grouped_armed, x=\"armed\", y=\"count\")\n",
    "plt.title(\"Most common ways of being armed\", fontsize=17)\n",
    "plt.savefig('armed.png')"
   ]
  },
  {
   "cell_type": "markdown",
   "metadata": {
    "heading_collapsed": true
   },
   "source": [
    "### Adding features (census data) - trying to explore whether it's possible to predict the race of a victim based on the features provided by census data"
   ]
  },
  {
   "cell_type": "markdown",
   "metadata": {
    "heading_collapsed": true,
    "hidden": true
   },
   "source": [
    "#### Preprocessing the census data"
   ]
  },
  {
   "cell_type": "code",
   "execution_count": 33,
   "metadata": {
    "hidden": true
   },
   "outputs": [],
   "source": [
    "income = pd.read_csv(\"Data/Income.csv\", encoding=\"windows-1252\")\n",
    "poverty = pd.read_csv(\"Data/Poverty.csv\", encoding=\"windows-1252\")\n",
    "race = pd.read_csv(\"Data/Race.csv\", encoding=\"windows-1252\")\n",
    "highschool = pd.read_csv(\"Data/Highschool.csv\", encoding=\"windows-1252\")\n",
    "\n",
    "#data preprocessing - city\n",
    "poverty[\"City\"].replace([\"city\", \"CDP\", \"town\"], \"\", regex=True, inplace=True)\n",
    "poverty[\"city\"] = poverty[\"City\"] + \", \" + poverty[\"Geographic Area\"]\n",
    "poverty.drop([\"Geographic Area\", \"City\"], axis=1, inplace=True)\n",
    "income[\"City\"].replace([\"city\", \"CDP\", \"town\"], \"\", regex=True, inplace=True)\n",
    "income[\"city\"] = income[\"City\"] + \", \" + income[\"Geographic Area\"]\n",
    "income.drop([\"Geographic Area\", \"City\"], axis=1, inplace=True)\n",
    "race[\"City\"].replace([\"city\", \"CDP\", \"town\"], \"\", regex=True, inplace=True) \n",
    "race[\"city\"] = race[\"City\"] + \", \" + race[\"Geographic area\"]\n",
    "race.drop([\"Geographic area\", \"City\"], axis=1, inplace=True)\n",
    "highschool[\"City\"].replace([\"city\", \"CDP\", \"town\"], \"\", regex=True, inplace=True)\n",
    "highschool[\"city\"] = highschool[\"City\"] + \", \" + highschool[\"Geographic Area\"]\n",
    "highschool.drop([\"Geographic Area\", \"City\"], axis=1, inplace=True)\n",
    "\n",
    "df[\"city\"] = df[\"City\"] + \" , \" + df[\"state\"] # Creating the same \"city\" format\n",
    "merge1 = pd.merge(poverty, race, on=\"city\", how=\"outer\")\n",
    "merge2 = pd.merge(merge1, income, on=\"city\", how=\"outer\")\n",
    "merge3 = pd.merge(merge2, highschool, on=\"city\", how=\"outer\")\n",
    "data = pd.merge(df, merge3, on=\"city\", how=\"outer\")\n",
    "data.dropna(inplace=True)\n",
    "\n",
    "data[[\"Median Income\", \"poverty_rate\", \"share_white\", \"share_black\", \"share_native_american\", \"share_asian\", \n",
    "      \"share_hispanic\", \"percent_completed_hs\"]] = data[[\"Median Income\", \"poverty_rate\", \"share_white\", \"share_black\", \"share_native_american\", \"share_asian\", \n",
    "      \"share_hispanic\", \"percent_completed_hs\"]].replace(\"(X)\", np.NaN)\n",
    "data[[\"Median Income\", \"poverty_rate\", \"share_white\", \"share_black\", \"share_native_american\", \"share_asian\", \n",
    "      \"share_hispanic\", \"percent_completed_hs\"]] = data[[\"Median Income\", \"poverty_rate\", \"share_white\", \"share_black\", \"share_native_american\", \"share_asian\", \n",
    "      \"share_hispanic\", \"percent_completed_hs\"]].replace(\"-\", np.NaN)\n",
    "\n",
    "data[[\"Median Income\", \"poverty_rate\", \"share_white\", \"share_black\", \"share_native_american\", \"share_asian\", \n",
    "      \"share_hispanic\", \"percent_completed_hs\"]] = data[[\"Median Income\", \"poverty_rate\", \"share_white\", \"share_black\", \"share_native_american\", \"share_asian\", \n",
    "      \"share_hispanic\", \"percent_completed_hs\"]].astype(float)\n",
    "\n",
    "data.dropna(inplace=True)"
   ]
  },
  {
   "cell_type": "code",
   "execution_count": 34,
   "metadata": {
    "hidden": true
   },
   "outputs": [
    {
     "name": "stdout",
     "output_type": "stream",
     "text": [
      "<class 'pandas.core.frame.DataFrame'>\n",
      "Int64Index: 1954 entries, 0 to 2512\n",
      "Data columns (total 21 columns):\n",
      "date                       1954 non-null object\n",
      "armed                      1954 non-null object\n",
      "age                        1954 non-null float64\n",
      "gender                     1954 non-null object\n",
      "race                       1954 non-null object\n",
      "City                       1954 non-null object\n",
      "state                      1954 non-null object\n",
      "signs_of_mental_illness    1954 non-null object\n",
      "threat_level               1954 non-null object\n",
      "flee                       1954 non-null object\n",
      "body_camera                1954 non-null object\n",
      "total_population           1954 non-null object\n",
      "city                       1954 non-null object\n",
      "poverty_rate               1954 non-null float64\n",
      "share_white                1954 non-null float64\n",
      "share_black                1954 non-null float64\n",
      "share_native_american      1954 non-null float64\n",
      "share_asian                1954 non-null float64\n",
      "share_hispanic             1954 non-null float64\n",
      "Median Income              1954 non-null float64\n",
      "percent_completed_hs       1954 non-null float64\n",
      "dtypes: float64(9), object(12)\n",
      "memory usage: 335.8+ KB\n"
     ]
    }
   ],
   "source": [
    "data.info()"
   ]
  },
  {
   "cell_type": "code",
   "execution_count": 35,
   "metadata": {
    "hidden": true
   },
   "outputs": [
    {
     "data": {
      "text/html": [
       "<div>\n",
       "<style scoped>\n",
       "    .dataframe tbody tr th:only-of-type {\n",
       "        vertical-align: middle;\n",
       "    }\n",
       "\n",
       "    .dataframe tbody tr th {\n",
       "        vertical-align: top;\n",
       "    }\n",
       "\n",
       "    .dataframe thead th {\n",
       "        text-align: right;\n",
       "    }\n",
       "</style>\n",
       "<table border=\"1\" class=\"dataframe\">\n",
       "  <thead>\n",
       "    <tr style=\"text-align: right;\">\n",
       "      <th></th>\n",
       "      <th>age</th>\n",
       "      <th>poverty_rate</th>\n",
       "      <th>share_white</th>\n",
       "      <th>share_black</th>\n",
       "      <th>share_native_american</th>\n",
       "      <th>share_asian</th>\n",
       "      <th>share_hispanic</th>\n",
       "      <th>Median Income</th>\n",
       "      <th>percent_completed_hs</th>\n",
       "    </tr>\n",
       "  </thead>\n",
       "  <tbody>\n",
       "    <tr>\n",
       "      <th>count</th>\n",
       "      <td>1954.000000</td>\n",
       "      <td>1954.000000</td>\n",
       "      <td>1954.000000</td>\n",
       "      <td>1954.000000</td>\n",
       "      <td>1954.000000</td>\n",
       "      <td>1954.000000</td>\n",
       "      <td>1954.000000</td>\n",
       "      <td>1954.000000</td>\n",
       "      <td>1954.000000</td>\n",
       "    </tr>\n",
       "    <tr>\n",
       "      <th>mean</th>\n",
       "      <td>36.054759</td>\n",
       "      <td>19.277840</td>\n",
       "      <td>66.845599</td>\n",
       "      <td>14.903275</td>\n",
       "      <td>2.205527</td>\n",
       "      <td>4.344985</td>\n",
       "      <td>20.923388</td>\n",
       "      <td>49094.342886</td>\n",
       "      <td>84.250154</td>\n",
       "    </tr>\n",
       "    <tr>\n",
       "      <th>std</th>\n",
       "      <td>12.477510</td>\n",
       "      <td>7.992977</td>\n",
       "      <td>20.587923</td>\n",
       "      <td>17.595603</td>\n",
       "      <td>10.047879</td>\n",
       "      <td>6.099220</td>\n",
       "      <td>20.646420</td>\n",
       "      <td>15481.388807</td>\n",
       "      <td>8.752191</td>\n",
       "    </tr>\n",
       "    <tr>\n",
       "      <th>min</th>\n",
       "      <td>6.000000</td>\n",
       "      <td>0.600000</td>\n",
       "      <td>0.400000</td>\n",
       "      <td>0.000000</td>\n",
       "      <td>0.000000</td>\n",
       "      <td>0.000000</td>\n",
       "      <td>0.000000</td>\n",
       "      <td>12083.000000</td>\n",
       "      <td>7.900000</td>\n",
       "    </tr>\n",
       "    <tr>\n",
       "      <th>25%</th>\n",
       "      <td>26.000000</td>\n",
       "      <td>13.700000</td>\n",
       "      <td>51.000000</td>\n",
       "      <td>2.100000</td>\n",
       "      <td>0.300000</td>\n",
       "      <td>1.000000</td>\n",
       "      <td>4.800000</td>\n",
       "      <td>39581.500000</td>\n",
       "      <td>80.600000</td>\n",
       "    </tr>\n",
       "    <tr>\n",
       "      <th>50%</th>\n",
       "      <td>35.000000</td>\n",
       "      <td>19.200000</td>\n",
       "      <td>68.900000</td>\n",
       "      <td>7.800000</td>\n",
       "      <td>0.600000</td>\n",
       "      <td>2.500000</td>\n",
       "      <td>12.900000</td>\n",
       "      <td>47012.000000</td>\n",
       "      <td>85.300000</td>\n",
       "    </tr>\n",
       "    <tr>\n",
       "      <th>75%</th>\n",
       "      <td>44.000000</td>\n",
       "      <td>23.700000</td>\n",
       "      <td>83.600000</td>\n",
       "      <td>21.800000</td>\n",
       "      <td>1.100000</td>\n",
       "      <td>5.100000</td>\n",
       "      <td>31.800000</td>\n",
       "      <td>54974.000000</td>\n",
       "      <td>89.500000</td>\n",
       "    </tr>\n",
       "    <tr>\n",
       "      <th>max</th>\n",
       "      <td>83.000000</td>\n",
       "      <td>76.400000</td>\n",
       "      <td>100.000000</td>\n",
       "      <td>98.000000</td>\n",
       "      <td>99.600000</td>\n",
       "      <td>60.700000</td>\n",
       "      <td>97.400000</td>\n",
       "      <td>175990.000000</td>\n",
       "      <td>100.000000</td>\n",
       "    </tr>\n",
       "  </tbody>\n",
       "</table>\n",
       "</div>"
      ],
      "text/plain": [
       "               age  poverty_rate  share_white  share_black  \\\n",
       "count  1954.000000   1954.000000  1954.000000  1954.000000   \n",
       "mean     36.054759     19.277840    66.845599    14.903275   \n",
       "std      12.477510      7.992977    20.587923    17.595603   \n",
       "min       6.000000      0.600000     0.400000     0.000000   \n",
       "25%      26.000000     13.700000    51.000000     2.100000   \n",
       "50%      35.000000     19.200000    68.900000     7.800000   \n",
       "75%      44.000000     23.700000    83.600000    21.800000   \n",
       "max      83.000000     76.400000   100.000000    98.000000   \n",
       "\n",
       "       share_native_american  share_asian  share_hispanic  Median Income  \\\n",
       "count            1954.000000  1954.000000     1954.000000    1954.000000   \n",
       "mean                2.205527     4.344985       20.923388   49094.342886   \n",
       "std                10.047879     6.099220       20.646420   15481.388807   \n",
       "min                 0.000000     0.000000        0.000000   12083.000000   \n",
       "25%                 0.300000     1.000000        4.800000   39581.500000   \n",
       "50%                 0.600000     2.500000       12.900000   47012.000000   \n",
       "75%                 1.100000     5.100000       31.800000   54974.000000   \n",
       "max                99.600000    60.700000       97.400000  175990.000000   \n",
       "\n",
       "       percent_completed_hs  \n",
       "count           1954.000000  \n",
       "mean              84.250154  \n",
       "std                8.752191  \n",
       "min                7.900000  \n",
       "25%               80.600000  \n",
       "50%               85.300000  \n",
       "75%               89.500000  \n",
       "max              100.000000  "
      ]
     },
     "execution_count": 35,
     "metadata": {},
     "output_type": "execute_result"
    }
   ],
   "source": [
    "data.describe()"
   ]
  },
  {
   "cell_type": "code",
   "execution_count": 36,
   "metadata": {
    "hidden": true
   },
   "outputs": [],
   "source": [
    "# Converting neccesary columns to floats\n",
    "data[\"poverty_rate\"] = data[\"poverty_rate\"].astype(float)\n",
    "data[\"share_white\"] = data[\"share_white\"].astype(float)\n",
    "data[\"share_black\"] = data[\"share_black\"].astype(float)\n",
    "data[\"share_native_american\"] = data[\"share_native_american\"].astype(float)\n",
    "data[\"share_asian\"] = data[\"share_asian\"].astype(float)\n",
    "data[\"share_hispanic\"] = data[\"share_hispanic\"].astype(float)\n",
    "data[\"percent_completed_hs\"] = data[\"percent_completed_hs\"].astype(float)\n",
    "data[\"Median Income\"] = data[\"Median Income\"].astype(int)"
   ]
  },
  {
   "cell_type": "code",
   "execution_count": 37,
   "metadata": {
    "hidden": true
   },
   "outputs": [
    {
     "data": {
      "text/html": [
       "<div>\n",
       "<style scoped>\n",
       "    .dataframe tbody tr th:only-of-type {\n",
       "        vertical-align: middle;\n",
       "    }\n",
       "\n",
       "    .dataframe tbody tr th {\n",
       "        vertical-align: top;\n",
       "    }\n",
       "\n",
       "    .dataframe thead th {\n",
       "        text-align: right;\n",
       "    }\n",
       "</style>\n",
       "<table border=\"1\" class=\"dataframe\">\n",
       "  <thead>\n",
       "    <tr style=\"text-align: right;\">\n",
       "      <th></th>\n",
       "      <th>date</th>\n",
       "      <th>armed</th>\n",
       "      <th>age</th>\n",
       "      <th>gender</th>\n",
       "      <th>race</th>\n",
       "      <th>City</th>\n",
       "      <th>state</th>\n",
       "      <th>signs_of_mental_illness</th>\n",
       "      <th>threat_level</th>\n",
       "      <th>flee</th>\n",
       "      <th>...</th>\n",
       "      <th>total_population</th>\n",
       "      <th>city</th>\n",
       "      <th>poverty_rate</th>\n",
       "      <th>share_white</th>\n",
       "      <th>share_black</th>\n",
       "      <th>share_native_american</th>\n",
       "      <th>share_asian</th>\n",
       "      <th>share_hispanic</th>\n",
       "      <th>Median Income</th>\n",
       "      <th>percent_completed_hs</th>\n",
       "    </tr>\n",
       "  </thead>\n",
       "  <tbody>\n",
       "    <tr>\n",
       "      <th>0</th>\n",
       "      <td>2015-01-02</td>\n",
       "      <td>gun</td>\n",
       "      <td>53.0</td>\n",
       "      <td>M</td>\n",
       "      <td>A</td>\n",
       "      <td>Shelton</td>\n",
       "      <td>WA</td>\n",
       "      <td>True</td>\n",
       "      <td>attack</td>\n",
       "      <td>Not fleeing</td>\n",
       "      <td>...</td>\n",
       "      <td>14674252</td>\n",
       "      <td>Shelton , WA</td>\n",
       "      <td>28.6</td>\n",
       "      <td>78.9</td>\n",
       "      <td>0.8</td>\n",
       "      <td>3.7</td>\n",
       "      <td>1.1</td>\n",
       "      <td>19.2</td>\n",
       "      <td>37072</td>\n",
       "      <td>80.1</td>\n",
       "    </tr>\n",
       "    <tr>\n",
       "      <th>1</th>\n",
       "      <td>2015-01-02</td>\n",
       "      <td>gun</td>\n",
       "      <td>47.0</td>\n",
       "      <td>M</td>\n",
       "      <td>W</td>\n",
       "      <td>Aloha</td>\n",
       "      <td>OR</td>\n",
       "      <td>False</td>\n",
       "      <td>attack</td>\n",
       "      <td>Not fleeing</td>\n",
       "      <td>...</td>\n",
       "      <td>223553265</td>\n",
       "      <td>Aloha , OR</td>\n",
       "      <td>14.9</td>\n",
       "      <td>70.9</td>\n",
       "      <td>2.6</td>\n",
       "      <td>1.0</td>\n",
       "      <td>8.9</td>\n",
       "      <td>21.1</td>\n",
       "      <td>65765</td>\n",
       "      <td>88.1</td>\n",
       "    </tr>\n",
       "    <tr>\n",
       "      <th>2</th>\n",
       "      <td>2015-10-02</td>\n",
       "      <td>knife</td>\n",
       "      <td>55.0</td>\n",
       "      <td>F</td>\n",
       "      <td>W</td>\n",
       "      <td>Aloha</td>\n",
       "      <td>OR</td>\n",
       "      <td>True</td>\n",
       "      <td>other</td>\n",
       "      <td>Not fleeing</td>\n",
       "      <td>...</td>\n",
       "      <td>223553265</td>\n",
       "      <td>Aloha , OR</td>\n",
       "      <td>14.9</td>\n",
       "      <td>70.9</td>\n",
       "      <td>2.6</td>\n",
       "      <td>1.0</td>\n",
       "      <td>8.9</td>\n",
       "      <td>21.1</td>\n",
       "      <td>65765</td>\n",
       "      <td>88.1</td>\n",
       "    </tr>\n",
       "    <tr>\n",
       "      <th>3</th>\n",
       "      <td>2015-01-03</td>\n",
       "      <td>unarmed</td>\n",
       "      <td>23.0</td>\n",
       "      <td>M</td>\n",
       "      <td>H</td>\n",
       "      <td>Wichita</td>\n",
       "      <td>KS</td>\n",
       "      <td>False</td>\n",
       "      <td>other</td>\n",
       "      <td>Not fleeing</td>\n",
       "      <td>...</td>\n",
       "      <td>50477594</td>\n",
       "      <td>Wichita , KS</td>\n",
       "      <td>17.3</td>\n",
       "      <td>71.9</td>\n",
       "      <td>11.5</td>\n",
       "      <td>1.2</td>\n",
       "      <td>4.8</td>\n",
       "      <td>15.3</td>\n",
       "      <td>45947</td>\n",
       "      <td>87.5</td>\n",
       "    </tr>\n",
       "    <tr>\n",
       "      <th>5</th>\n",
       "      <td>2016-09-01</td>\n",
       "      <td>gun</td>\n",
       "      <td>18.0</td>\n",
       "      <td>M</td>\n",
       "      <td>W</td>\n",
       "      <td>Wichita</td>\n",
       "      <td>KS</td>\n",
       "      <td>False</td>\n",
       "      <td>other</td>\n",
       "      <td>Car</td>\n",
       "      <td>...</td>\n",
       "      <td>223553265</td>\n",
       "      <td>Wichita , KS</td>\n",
       "      <td>17.3</td>\n",
       "      <td>71.9</td>\n",
       "      <td>11.5</td>\n",
       "      <td>1.2</td>\n",
       "      <td>4.8</td>\n",
       "      <td>15.3</td>\n",
       "      <td>45947</td>\n",
       "      <td>87.5</td>\n",
       "    </tr>\n",
       "  </tbody>\n",
       "</table>\n",
       "<p>5 rows × 21 columns</p>\n",
       "</div>"
      ],
      "text/plain": [
       "         date    armed   age gender race     City state  \\\n",
       "0  2015-01-02      gun  53.0      M    A  Shelton    WA   \n",
       "1  2015-01-02      gun  47.0      M    W    Aloha    OR   \n",
       "2  2015-10-02    knife  55.0      F    W    Aloha    OR   \n",
       "3  2015-01-03  unarmed  23.0      M    H  Wichita    KS   \n",
       "5  2016-09-01      gun  18.0      M    W  Wichita    KS   \n",
       "\n",
       "  signs_of_mental_illness threat_level         flee  ... total_population  \\\n",
       "0                    True       attack  Not fleeing  ...         14674252   \n",
       "1                   False       attack  Not fleeing  ...        223553265   \n",
       "2                    True        other  Not fleeing  ...        223553265   \n",
       "3                   False        other  Not fleeing  ...         50477594   \n",
       "5                   False        other          Car  ...        223553265   \n",
       "\n",
       "           city poverty_rate  share_white  share_black  share_native_american  \\\n",
       "0  Shelton , WA         28.6         78.9          0.8                    3.7   \n",
       "1    Aloha , OR         14.9         70.9          2.6                    1.0   \n",
       "2    Aloha , OR         14.9         70.9          2.6                    1.0   \n",
       "3  Wichita , KS         17.3         71.9         11.5                    1.2   \n",
       "5  Wichita , KS         17.3         71.9         11.5                    1.2   \n",
       "\n",
       "   share_asian  share_hispanic  Median Income  percent_completed_hs  \n",
       "0          1.1            19.2          37072                  80.1  \n",
       "1          8.9            21.1          65765                  88.1  \n",
       "2          8.9            21.1          65765                  88.1  \n",
       "3          4.8            15.3          45947                  87.5  \n",
       "5          4.8            15.3          45947                  87.5  \n",
       "\n",
       "[5 rows x 21 columns]"
      ]
     },
     "execution_count": 37,
     "metadata": {},
     "output_type": "execute_result"
    }
   ],
   "source": [
    "data.head()"
   ]
  },
  {
   "cell_type": "code",
   "execution_count": 38,
   "metadata": {
    "hidden": true
   },
   "outputs": [
    {
     "name": "stdout",
     "output_type": "stream",
     "text": [
      "<class 'pandas.core.frame.DataFrame'>\n",
      "Int64Index: 1954 entries, 0 to 2512\n",
      "Data columns (total 21 columns):\n",
      "date                       1954 non-null object\n",
      "armed                      1954 non-null object\n",
      "age                        1954 non-null float64\n",
      "gender                     1954 non-null object\n",
      "race                       1954 non-null object\n",
      "City                       1954 non-null object\n",
      "state                      1954 non-null object\n",
      "signs_of_mental_illness    1954 non-null object\n",
      "threat_level               1954 non-null object\n",
      "flee                       1954 non-null object\n",
      "body_camera                1954 non-null object\n",
      "total_population           1954 non-null object\n",
      "city                       1954 non-null object\n",
      "poverty_rate               1954 non-null float64\n",
      "share_white                1954 non-null float64\n",
      "share_black                1954 non-null float64\n",
      "share_native_american      1954 non-null float64\n",
      "share_asian                1954 non-null float64\n",
      "share_hispanic             1954 non-null float64\n",
      "Median Income              1954 non-null int32\n",
      "percent_completed_hs       1954 non-null float64\n",
      "dtypes: float64(8), int32(1), object(12)\n",
      "memory usage: 328.2+ KB\n"
     ]
    }
   ],
   "source": [
    "data.info()"
   ]
  },
  {
   "cell_type": "markdown",
   "metadata": {
    "collapsed": true
   },
   "source": [
    "## Predicting the Race of a Victim using Logistic Regression"
   ]
  },
  {
   "cell_type": "markdown",
   "metadata": {},
   "source": [
    "### Data Preprocessing"
   ]
  },
  {
   "cell_type": "markdown",
   "metadata": {},
   "source": [
    "#### Transforming columns into dummy varaibles"
   ]
  },
  {
   "cell_type": "code",
   "execution_count": 35,
   "metadata": {},
   "outputs": [
    {
     "data": {
      "text/html": [
       "<div>\n",
       "<style scoped>\n",
       "    .dataframe tbody tr th:only-of-type {\n",
       "        vertical-align: middle;\n",
       "    }\n",
       "\n",
       "    .dataframe tbody tr th {\n",
       "        vertical-align: top;\n",
       "    }\n",
       "\n",
       "    .dataframe thead th {\n",
       "        text-align: right;\n",
       "    }\n",
       "</style>\n",
       "<table border=\"1\" class=\"dataframe\">\n",
       "  <thead>\n",
       "    <tr style=\"text-align: right;\">\n",
       "      <th></th>\n",
       "      <th>age</th>\n",
       "      <th>race</th>\n",
       "      <th>poverty_rate</th>\n",
       "      <th>share_white</th>\n",
       "      <th>share_black</th>\n",
       "      <th>share_native_american</th>\n",
       "      <th>share_asian</th>\n",
       "      <th>share_hispanic</th>\n",
       "      <th>Median Income</th>\n",
       "      <th>percent_completed_hs</th>\n",
       "      <th>...</th>\n",
       "      <th>state_WI</th>\n",
       "      <th>state_WV</th>\n",
       "      <th>state_WY</th>\n",
       "      <th>threat_level_other</th>\n",
       "      <th>threat_level_undetermined</th>\n",
       "      <th>flee_Foot</th>\n",
       "      <th>flee_Not fleeing</th>\n",
       "      <th>flee_Other</th>\n",
       "      <th>signs_of_mental_illness_True</th>\n",
       "      <th>body_camera_True</th>\n",
       "    </tr>\n",
       "  </thead>\n",
       "  <tbody>\n",
       "    <tr>\n",
       "      <th>0</th>\n",
       "      <td>53.0</td>\n",
       "      <td>A</td>\n",
       "      <td>28.6</td>\n",
       "      <td>78.9</td>\n",
       "      <td>0.8</td>\n",
       "      <td>3.7</td>\n",
       "      <td>1.1</td>\n",
       "      <td>19.2</td>\n",
       "      <td>37072</td>\n",
       "      <td>80.1</td>\n",
       "      <td>...</td>\n",
       "      <td>0</td>\n",
       "      <td>0</td>\n",
       "      <td>0</td>\n",
       "      <td>0</td>\n",
       "      <td>0</td>\n",
       "      <td>0</td>\n",
       "      <td>1</td>\n",
       "      <td>0</td>\n",
       "      <td>1</td>\n",
       "      <td>0</td>\n",
       "    </tr>\n",
       "    <tr>\n",
       "      <th>1</th>\n",
       "      <td>47.0</td>\n",
       "      <td>W</td>\n",
       "      <td>14.9</td>\n",
       "      <td>70.9</td>\n",
       "      <td>2.6</td>\n",
       "      <td>1.0</td>\n",
       "      <td>8.9</td>\n",
       "      <td>21.1</td>\n",
       "      <td>65765</td>\n",
       "      <td>88.1</td>\n",
       "      <td>...</td>\n",
       "      <td>0</td>\n",
       "      <td>0</td>\n",
       "      <td>0</td>\n",
       "      <td>0</td>\n",
       "      <td>0</td>\n",
       "      <td>0</td>\n",
       "      <td>1</td>\n",
       "      <td>0</td>\n",
       "      <td>0</td>\n",
       "      <td>0</td>\n",
       "    </tr>\n",
       "    <tr>\n",
       "      <th>2</th>\n",
       "      <td>55.0</td>\n",
       "      <td>W</td>\n",
       "      <td>14.9</td>\n",
       "      <td>70.9</td>\n",
       "      <td>2.6</td>\n",
       "      <td>1.0</td>\n",
       "      <td>8.9</td>\n",
       "      <td>21.1</td>\n",
       "      <td>65765</td>\n",
       "      <td>88.1</td>\n",
       "      <td>...</td>\n",
       "      <td>0</td>\n",
       "      <td>0</td>\n",
       "      <td>0</td>\n",
       "      <td>1</td>\n",
       "      <td>0</td>\n",
       "      <td>0</td>\n",
       "      <td>1</td>\n",
       "      <td>0</td>\n",
       "      <td>1</td>\n",
       "      <td>0</td>\n",
       "    </tr>\n",
       "    <tr>\n",
       "      <th>3</th>\n",
       "      <td>23.0</td>\n",
       "      <td>H</td>\n",
       "      <td>17.3</td>\n",
       "      <td>71.9</td>\n",
       "      <td>11.5</td>\n",
       "      <td>1.2</td>\n",
       "      <td>4.8</td>\n",
       "      <td>15.3</td>\n",
       "      <td>45947</td>\n",
       "      <td>87.5</td>\n",
       "      <td>...</td>\n",
       "      <td>0</td>\n",
       "      <td>0</td>\n",
       "      <td>0</td>\n",
       "      <td>1</td>\n",
       "      <td>0</td>\n",
       "      <td>0</td>\n",
       "      <td>1</td>\n",
       "      <td>0</td>\n",
       "      <td>0</td>\n",
       "      <td>0</td>\n",
       "    </tr>\n",
       "    <tr>\n",
       "      <th>5</th>\n",
       "      <td>18.0</td>\n",
       "      <td>W</td>\n",
       "      <td>17.3</td>\n",
       "      <td>71.9</td>\n",
       "      <td>11.5</td>\n",
       "      <td>1.2</td>\n",
       "      <td>4.8</td>\n",
       "      <td>15.3</td>\n",
       "      <td>45947</td>\n",
       "      <td>87.5</td>\n",
       "      <td>...</td>\n",
       "      <td>0</td>\n",
       "      <td>0</td>\n",
       "      <td>0</td>\n",
       "      <td>1</td>\n",
       "      <td>0</td>\n",
       "      <td>0</td>\n",
       "      <td>0</td>\n",
       "      <td>0</td>\n",
       "      <td>0</td>\n",
       "      <td>1</td>\n",
       "    </tr>\n",
       "  </tbody>\n",
       "</table>\n",
       "<p>5 rows × 2146 columns</p>\n",
       "</div>"
      ],
      "text/plain": [
       "    age race  poverty_rate  share_white  share_black  share_native_american  \\\n",
       "0  53.0    A          28.6         78.9          0.8                    3.7   \n",
       "1  47.0    W          14.9         70.9          2.6                    1.0   \n",
       "2  55.0    W          14.9         70.9          2.6                    1.0   \n",
       "3  23.0    H          17.3         71.9         11.5                    1.2   \n",
       "5  18.0    W          17.3         71.9         11.5                    1.2   \n",
       "\n",
       "   share_asian  share_hispanic  Median Income  percent_completed_hs  \\\n",
       "0          1.1            19.2          37072                  80.1   \n",
       "1          8.9            21.1          65765                  88.1   \n",
       "2          8.9            21.1          65765                  88.1   \n",
       "3          4.8            15.3          45947                  87.5   \n",
       "5          4.8            15.3          45947                  87.5   \n",
       "\n",
       "         ...         state_WI  state_WV  state_WY  threat_level_other  \\\n",
       "0        ...                0         0         0                   0   \n",
       "1        ...                0         0         0                   0   \n",
       "2        ...                0         0         0                   1   \n",
       "3        ...                0         0         0                   1   \n",
       "5        ...                0         0         0                   1   \n",
       "\n",
       "   threat_level_undetermined  flee_Foot  flee_Not fleeing  flee_Other  \\\n",
       "0                          0          0                 1           0   \n",
       "1                          0          0                 1           0   \n",
       "2                          0          0                 1           0   \n",
       "3                          0          0                 1           0   \n",
       "5                          0          0                 0           0   \n",
       "\n",
       "   signs_of_mental_illness_True  body_camera_True  \n",
       "0                             1                 0  \n",
       "1                             0                 0  \n",
       "2                             1                 0  \n",
       "3                             0                 0  \n",
       "5                             0                 1  \n",
       "\n",
       "[5 rows x 2146 columns]"
      ]
     },
     "execution_count": 35,
     "metadata": {},
     "output_type": "execute_result"
    }
   ],
   "source": [
    "dummies = pd.get_dummies(data[[\"armed\", \"gender\", \"city\", \"City\", \"state\", \"threat_level\", \"flee\",\"signs_of_mental_illness\", \"body_camera\"]], drop_first=True)\n",
    "dummies = pd.concat([data, dummies], axis=1)\n",
    "\n",
    "dummies.drop(data[[\"date\", \"armed\", \"gender\", \"city\", \"City\", \"state\", \"threat_level\", \"flee\", \"total_population\",\"signs_of_mental_illness\", \"body_camera\"]], axis=1, inplace=True)\n",
    "dummies.dropna()\n",
    "dummies.head()"
   ]
  },
  {
   "cell_type": "markdown",
   "metadata": {
    "heading_collapsed": true
   },
   "source": [
    "#### Splitting the data into test and train sets"
   ]
  },
  {
   "cell_type": "code",
   "execution_count": 36,
   "metadata": {
    "hidden": true
   },
   "outputs": [],
   "source": [
    "X = dummies.drop(\"race\", axis=1)\n",
    "y = dummies[\"race\"]\n",
    "X_train, X_test, y_train, y_test = train_test_split(X, y, test_size=0.3, random_state=101)"
   ]
  },
  {
   "cell_type": "markdown",
   "metadata": {
    "heading_collapsed": true
   },
   "source": [
    "### Fitting the training data"
   ]
  },
  {
   "cell_type": "code",
   "execution_count": 37,
   "metadata": {
    "hidden": true
   },
   "outputs": [
    {
     "data": {
      "text/plain": [
       "LogisticRegression(C=1.0, class_weight=None, dual=False, fit_intercept=True,\n",
       "          intercept_scaling=1, max_iter=100, multi_class='ovr', n_jobs=1,\n",
       "          penalty='l2', random_state=None, solver='liblinear', tol=0.0001,\n",
       "          verbose=0, warm_start=False)"
      ]
     },
     "execution_count": 37,
     "metadata": {},
     "output_type": "execute_result"
    }
   ],
   "source": [
    "logmodel = LogisticRegression()\n",
    "logmodel.fit(X_train, y_train)"
   ]
  },
  {
   "cell_type": "markdown",
   "metadata": {
    "heading_collapsed": true
   },
   "source": [
    "### Predictions"
   ]
  },
  {
   "cell_type": "code",
   "execution_count": 38,
   "metadata": {
    "hidden": true
   },
   "outputs": [
    {
     "name": "stdout",
     "output_type": "stream",
     "text": [
      "             precision    recall  f1-score   support\n",
      "\n",
      "          A       0.00      0.00      0.00         8\n",
      "          B       0.71      0.60      0.65       158\n",
      "          H       0.61      0.48      0.54       119\n",
      "          N       0.00      0.00      0.00         6\n",
      "          O       0.50      0.25      0.33         4\n",
      "          W       0.70      0.86      0.77       292\n",
      "\n",
      "avg / total       0.67      0.69      0.67       587\n",
      "\n"
     ]
    },
    {
     "name": "stderr",
     "output_type": "stream",
     "text": [
      "C:\\Users\\Aneri\\Anaconda3\\lib\\site-packages\\sklearn\\metrics\\classification.py:1135: UndefinedMetricWarning: Precision and F-score are ill-defined and being set to 0.0 in labels with no predicted samples.\n",
      "  'precision', 'predicted', average, warn_for)\n"
     ]
    }
   ],
   "source": [
    "predictions = logmodel.predict(X_test)\n",
    "print (classification_report(y_test, predictions))"
   ]
  },
  {
   "cell_type": "markdown",
   "metadata": {},
   "source": [
    "### Accuracy score"
   ]
  },
  {
   "cell_type": "code",
   "execution_count": 39,
   "metadata": {},
   "outputs": [
    {
     "name": "stdout",
     "output_type": "stream",
     "text": [
      "logistic regression accuracy score for 6 race classes :  0.6882\n"
     ]
    }
   ],
   "source": [
    "score = accuracy_score(y_test, predictions)\n",
    "print(\"logistic regression accuracy score for 6 race classes : \",round(score,4))"
   ]
  }
 ],
 "metadata": {
  "kernelspec": {
   "display_name": "Python 3",
   "language": "python",
   "name": "python3"
  },
  "language_info": {
   "codemirror_mode": {
    "name": "ipython",
    "version": 3
   },
   "file_extension": ".py",
   "mimetype": "text/x-python",
   "name": "python",
   "nbconvert_exporter": "python",
   "pygments_lexer": "ipython3",
   "version": "3.7.3"
  },
  "toc": {
   "base_numbering": 1,
   "nav_menu": {},
   "number_sections": true,
   "sideBar": true,
   "skip_h1_title": true,
   "title_cell": "Table of Contents",
   "title_sidebar": "Contents",
   "toc_cell": false,
   "toc_position": {},
   "toc_section_display": true,
   "toc_window_display": false
  }
 },
 "nbformat": 4,
 "nbformat_minor": 1
}
